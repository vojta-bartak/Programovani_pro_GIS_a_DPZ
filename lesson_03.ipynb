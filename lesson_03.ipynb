{
 "cells": [
  {
   "cell_type": "markdown",
   "metadata": {},
   "source": [
    "# Lekce 3: Jak napsat a spustit program v Pythonu?\n",
    "\n",
    "## Proč Python?\n",
    "\n",
    "Jazyk Python vyvinul nizozemský vývojář Guido van Rossum koncem 80. let 20. století, první verze spatřila světlo světa v roce 1991. Motivací přitom bylo vyvinout opravdu jednoduchý, efektivní, ale také zábavný jazyk. Poslední aspekt se odráží i v samotném jméně jazyka (česky \"krajta\"), které je reminiscencí na známou britskou komickou skupinu Monty Python.\n",
    "\n",
    "### Důvody pro použití Pythonu v GIS\n",
    "\n",
    "**Za prvé**, programovací jazyk Python je velmi jednoduchý a snadno ho zvládne i úplný začátečník bez jakýchkoli zkušeností s programováním.\n",
    "\n",
    "**Za druhé**, Python je výkonný a vyspělý objektově orientovaný jazyk, navržený pro psaní krátkých skriptů, ale snadno použitelný i pro tvorbu rozsáhlých programů.\n",
    "\n",
    "**Za třetí**, Python je nezávislý na operačním systému, tj. pracuje stejně dobře ve Windows jako v Linuxu a v jiných operačních systémech.\n",
    "\n",
    "**Za čtvrté**, Python je velmi populární, díky čemuž k němu existuje rozsáhlá dokumentace, výukové materiály, internetová fóra a především velké množství knihoven (nebo v pythonovské hantýrce „modulů" a \"balíčků\") pro řešení úloh z nejrůznějších oblastí.\n",
    "\n",
    "**Za páté**, Python je tzv. open source program, což mimo jiné znamená, že je zdarma.\n",
    "\n",
    "**Za šesté**, existuje velké množství volně přístupných pythonovských modulů pro práci s prostorovými daty, od vektorových a rastrových analýz až po tvorbu map a jejich publikaci na internetu.\n",
    "\n",
    "**Za sedmé**, Python je podporován jako jazyk pro psaní skriptů v programovém prostředí ArcGIS Pro. ArcGIS Pro používá Python 3 jako výlučný skriptovací jazyk, což je oproti starší verzi ArcGIS Desktop značný pokrok."
   ]
  },
  {
   "cell_type": "markdown",
   "metadata": {},
   "source": [
    "## Instalace a verze Pythonu\n",
    "\n",
    "**ArcGIS Pro používá Python 3**, konkrétně verzi, která je dodávána s danou verzí ArcGIS Pro (typicky Python 3.9 nebo novější).\n",
    "\n",
    "Při instalaci ArcGIS Pro se automaticky instaluje:\n",
    "- Odpovídající verze Pythonu\n",
    "- Prostředí conda pro správu balíčků\n",
    "- Klíčová knihovna **ArcPy**, která zprostředkovává funkcionalitu ArcGIS Pro do jazyka Python\n",
    "- Další potřebné knihovny pro geospatiální analýzu"
   ]
  },
  {
   "cell_type": "markdown",
   "metadata": {},
   "source": [
    "## Úkol 1: Základní operace v Pythonu\n",
    "\n",
    "Vyzkoušejte si základní matematické operace. Spusťte následující buňky pomocí **Shift+Enter**."
   ]
  },
  {
   "cell_type": "code",
   "execution_count": null,
   "metadata": {},
   "outputs": [],
   "source": [
    "# Jednoduchý součet\n",
    "1 + 2"
   ]
  },
  {
   "cell_type": "code",
   "execution_count": null,
   "metadata": {},
   "outputs": [],
   "source": [
    "# Python jako kalkulačka\n",
    "-(2 + 3) * 5"
   ]
  },
  {
   "cell_type": "code",
   "execution_count": null,
   "metadata": {},
   "outputs": [],
   "source": [
    "# Práce s textem\n",
    "\"Ahoj svete!\""
   ]
  },
  {
   "cell_type": "markdown",
   "metadata": {},
   "source": [
    "## Úkol 2: Proměnné\n",
    "\n",
    "Vytvořte proměnné a vyzkoušejte s nimi operace."
   ]
  },
  {
   "cell_type": "code",
   "execution_count": null,
   "metadata": {},
   "outputs": [],
   "source": [
    "# Vytvoření číselných proměnných\n",
    "x = 2\n",
    "moje_cislo = 3\n",
    "\n",
    "# Použití proměnných ve výpočtu\n",
    "vysledek = -(x + moje_cislo) * 5\n",
    "print(f\"Výsledek: {vysledek}\")"
   ]
  },
  {
   "cell_type": "code",
   "execution_count": null,
   "metadata": {},
   "outputs": [],
   "source": [
    "# Práce s textovými proměnnými\n",
    "a = \"Ahoj\"\n",
    "b = \"Světe\"\n",
    "\n",
    "# Spojení textů\n",
    "pozdrav = a + \" \" + b + \"!\"\n",
    "print(pozdrav)"
   ]
  },
  {
   "cell_type": "markdown",
   "metadata": {},
   "source": [
    "### Vaše vlastní experimenty\n",
    "\n",
    "Zkuste si vytvořit vlastní proměnné a operace:"
   ]
  },
  {
   "cell_type": "code",
   "execution_count": null,
   "metadata": {},
   "outputs": [],
   "source": [
    "# Zde můžete experimentovat s vlastním kódem\n"
   ]
  },
  {
   "cell_type": "markdown",
   "metadata": {},
   "source": [
    "## Úkol 3: Import a práce s ArcPy\n",
    "\n",
    "Vyzkoušejte import knihovny ArcPy a zjistěte informace o vaší instalaci ArcGIS Pro."
   ]
  },
  {
   "cell_type": "code",
   "execution_count": null,
   "metadata": {},
   "outputs": [],
   "source": [
    "# Import knihovny ArcPy\n",
    "import arcpy\n",
    "\n",
    "# Zjištění verze ArcGIS Pro\n",
    "install_info = arcpy.GetInstallInfo()\n",
    "print(f\"Verze ArcGIS Pro: {install_info['Version']}\")\n",
    "print(f\"Typ licence: {install_info['LicenseLevel']}\")\n",
    "print(f\"Instalační adresář: {install_info['InstallDir']}\")"
   ]
  },
  {
   "cell_type": "markdown",
   "metadata": {},
   "source": [
    "## Úkol 4: Základní datové typy\n",
    "\n",
    "Python podporuje různé datové typy. Vyzkoušejte si základní z nich."
   ]
  },
  {
   "cell_type": "code",
   "execution_count": null,
   "metadata": {},
   "outputs": [],
   "source": [
    "# Celé číslo (integer)\n",
    "cele_cislo = 42\n",
    "print(f\"Celé číslo: {cele_cislo}, typ: {type(cele_cislo)}\")\n",
    "\n",
    "# Desetinné číslo (float)\n",
    "desetinne_cislo = 3.14\n",
    "print(f\"Desetinné číslo: {desetinne_cislo}, typ: {type(desetinne_cislo)}\")\n",
    "\n",
    "# Text (string)\n",
    "text = \"Python je skvělý!\"\n",
    "print(f\"Text: {text}, typ: {type(text)}\")\n",
    "\n",
    "# Pravdivostní hodnota (boolean)\n",
    "pravda = True\n",
    "print(f\"Boolean: {pravda}, typ: {type(pravda)}\")"
   ]
  },
  {
   "cell_type": "markdown",
   "metadata": {},
   "source": [
    "## Úkol 5: Seznamy a cykly\n",
    "\n",
    "Seznamy jsou jedním z nejdůležitějších datových struktur v Pythonu."
   ]
  },
  {
   "cell_type": "code",
   "execution_count": null,
   "metadata": {},
   "outputs": [],
   "source": [
    "# Vytvoření seznamu měst\n",
    "mesta = [\"Praha\", \"Brno\", \"Ostrava\", \"Plzeň\", \"Liberec\"]\n",
    "\n",
    "# Výpis seznamu\n",
    "print(\"Seznam měst:\", mesta)\n",
    "\n",
    "# Přístup k prvkům seznamu (indexování od 0)\n",
    "print(f\"První město: {mesta[0]}\")\n",
    "print(f\"Třetí město: {mesta[2]}\")\n",
    "print(f\"Poslední město: {mesta[-1]}\")"
   ]
  },
  {
   "cell_type": "code",
   "execution_count": null,
   "metadata": {},
   "outputs": [],
   "source": [
    "# Procházení seznamu pomocí cyklu for\n",
    "print(\"\\nVýpis všech měst:\")\n",
    "for mesto in mesta:\n",
    "    print(f\"- {mesto}\")"
   ]
  },
  {
   "cell_type": "code",
   "execution_count": null,
   "metadata": {},
   "outputs": [],
   "source": [
    "# Práce se seznamem čísel\n",
    "cisla = [1, 2, 3, 4, 5]\n",
    "\n",
    "# Výpočet součtu\n",
    "soucet = sum(cisla)\n",
    "print(f\"Součet: {soucet}\")\n",
    "\n",
    "# Výpočet průměru\n",
    "prumer = sum(cisla) / len(cisla)\n",
    "print(f\"Průměr: {prumer}\")"
   ]
  },
  {
   "cell_type": "markdown",
   "metadata": {},
   "source": [
    "## Úkol 6: Funkce\n",
    "\n",
    "Funkce umožňují organizovat kód do znovupoužitelných bloků."
   ]
  },
  {
   "cell_type": "code",
   "execution_count": null,
   "metadata": {},
   "outputs": [],
   "source": [
    "# Definice jednoduché funkce\n",
    "def pozdrav(jmeno):\n",
    "    \"\"\"Vrátí pozdrav pro dané jméno.\"\"\"\n",
    "    return f\"Ahoj, {jmeno}!\"\n",
    "\n",
    "# Použití funkce\n",
    "zprava = pozdrav(\"studente\")\n",
    "print(zprava)"
   ]
  },
  {
   "cell_type": "code",
   "execution_count": null,
   "metadata": {},
   "outputs": [],
   "source": [
    "# Funkce s více parametry\n",
    "def vypocti_plochu_obdelniku(delka, sirka):\n",
    "    \"\"\"Vypočítá plochu obdélníku.\"\"\"\n",
    "    plocha = delka * sirka\n",
    "    return plocha\n",
    "\n",
    "# Test funkce\n",
    "vysledek = vypocti_plochu_obdelniku(5, 3)\n",
    "print(f\"Plocha obdélníku: {vysledek} m²\")"
   ]
  },
  {
   "cell_type": "markdown",
   "metadata": {},
   "source": [
    "## Užitečné tipy pro práci v Jupyter Notebooku\n",
    "\n",
    "### Klávesové zkratky:\n",
    "- **Shift + Enter**: Spustí aktuální buňku a přejde na další\n",
    "- **Ctrl + Enter**: Spustí aktuální buňku a zůstane v ní\n",
    "- **Tab**: Našeptávač kódu (automatické doplňování)\n",
    "- **Shift + Tab**: Zobrazí dokumentaci k funkci\n",
    "- **Esc**: Přepne do příkazového režimu\n",
    "- **Enter**: Přepne do editačního režimu\n",
    "- **A** (v příkazovém režimu): Vloží novou buňku nad aktuální\n",
    "- **B** (v příkazovém režimu): Vloží novou buňku pod aktuální\n",
    "- **DD** (v příkazovém režimu): Smaže aktuální buňku\n",
    "- **M** (v příkazovém režimu): Změní buňku na Markdown\n",
    "- **Y** (v příkazovém režimu): Změní buňku na kód\n",
    "\n",
    "### Magic příkazy:\n",
    "Jupyter Notebook podporuje speciální příkazy začínající `%` nebo `%%`"
   ]
  },
  {
   "cell_type": "code",
   "execution_count": null,
   "metadata": {},
   "outputs": [],
   "source": [
    "# Zobrazení všech proměnných v paměti\n",
    "%whos"
   ]
  },
  {
   "cell_type": "code",
   "execution_count": null,
   "metadata": {},
   "outputs": [],
   "source": [
    "# Měření času vykonání kódu\n",
    "%timeit sum(range(1000))"
   ]
  },
  {
   "cell_type": "markdown",
   "metadata": {},
   "source": [
    "## Praktický příklad: Výpočet vzdálenosti\n",
    "\n",
    "Vytvořme jednoduchý program pro výpočet vzdálenosti mezi dvěma body."
   ]
  },
  {
   "cell_type": "code",
   "execution_count": null,
   "metadata": {},
   "outputs": [],
   "source": [
    "import math\n",
    "\n",
    "def vypocti_vzdalenost(x1, y1, x2, y2):\n",
    "    \"\"\"\n",
    "    Vypočítá vzdálenost mezi dvěma body v rovině.\n",
    "    \n",
    "    Parametry:\n",
    "        x1, y1: Souřadnice prvního bodu\n",
    "        x2, y2: Souřadnice druhého bodu\n",
    "    \n",
    "    Vrací:\n",
    "        Vzdálenost mezi body\n",
    "    \"\"\"\n",
    "    vzdalenost = math.sqrt((x2 - x1)**2 + (y2 - y1)**2)\n",
    "    return vzdalenost\n",
    "\n",
    "# Test funkce\n",
    "bod1 = (0, 0)\n",
    "bod2 = (3, 4)\n",
    "\n",
    "vzdalenost = vypocti_vzdalenost(bod1[0], bod1[1], bod2[0], bod2[1])\n",
    "print(f\"Vzdálenost mezi body {bod1} a {bod2} je {vzdalenost:.2f} jednotek\")"
   ]
  },
  {
   "cell_type": "markdown",
   "metadata": {},
   "source": [
    "## Shrnutí\n",
    "\n",
    "V této lekci jste se naučili:\n",
    "\n",
    "1. ✅ Základní operace v Pythonu (matematika, text)\n",
    "2. ✅ Práci s proměnnými\n",
    "3. ✅ Import knihovny ArcPy\n",
    "4. ✅ Základní datové typy (int, float, string, boolean)\n",
    "5. ✅ Seznamy a cykly\n",
    "6. ✅ Tvorbu a použití funkcí\n",
    "7. ✅ Práci v Jupyter Notebooku\n",
    "\n",
    "### Další kroky:\n",
    "\n",
    "- Experimentujte s kódem v prázdných buňkách\n",
    "- Zkuste vytvořit vlastní funkce\n",
    "- Prozkoumejte dokumentaci ArcPy: https://pro.arcgis.com/en/pro-app/arcpy/\n",
    "- V další lekci začneme pracovat s geografickými daty"
   ]
  },
  {
   "cell_type": "markdown",
   "metadata": {},
   "source": [
    "## Prostor pro vaše experimenty\n",
    "\n",
    "Níže můžete přidávat vlastní buňky a zkoušet si jakýkoli kód."
   ]
  },
  {
   "cell_type": "code",
   "execution_count": null,
   "metadata": {},
   "outputs": [],
   "source": []
  }
 ],
 "metadata": {
  "kernelspec": {
   "display_name": "ArcGISPro",
   "language": "python",
   "name": "python3"
  },
  "language_info": {
   "codemirror_mode": {
    "name": "ipython",
    "version": 3
   },
   "file_extension": ".py",
   "mimetype": "text/x-python",
   "name": "python",
   "nbconvert_exporter": "python",
   "pygments_lexer": "ipython3",
   "version": "3.9.11"
  }
 },
 "nbformat": 4,
 "nbformat_minor": 4
}